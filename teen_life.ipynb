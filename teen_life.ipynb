{
 "cells": [
  {
   "cell_type": "code",
   "execution_count": 1,
   "metadata": {
    "collapsed": false,
    "slideshow": {
     "slide_type": "skip"
    }
   },
   "outputs": [],
   "source": [
    "import numpy as np"
   ]
  },
  {
   "cell_type": "markdown",
   "metadata": {
    "slideshow": {
     "slide_type": "slide"
    }
   },
   "source": [
    "<img src='tl.jpeg' width='600px' />"
   ]
  },
  {
   "cell_type": "code",
   "execution_count": 2,
   "metadata": {
    "collapsed": false
   },
   "outputs": [],
   "source": [
    "n_states = 5\n",
    "\n",
    "states = [\"Eat\", \"Hang\", \"Study\", \"Talk\", \"Sleep\"]"
   ]
  },
  {
   "cell_type": "markdown",
   "metadata": {},
   "source": [
    "Transition probability from state $i$ to state $j$  is $A_{i, j}$"
   ]
  },
  {
   "cell_type": "code",
   "execution_count": 3,
   "metadata": {
    "collapsed": false
   },
   "outputs": [],
   "source": [
    "A = np.array([[0.,  0.7, 0.1, 0,   0.2],\n",
    "              [0.2, 0.4, 0,   0.2, 0.2],\n",
    "              [0,   1.0, 0,   0,   0],\n",
    "              [0,   0.3, 0,   0.7, 0],\n",
    "              [0.1, 0.1, 0,   0, 0.8]])"
   ]
  },
  {
   "cell_type": "code",
   "execution_count": 4,
   "metadata": {
    "collapsed": false
   },
   "outputs": [
    {
     "data": {
      "text/plain": [
       "array([ 1.,  1.,  1.,  1.,  1.])"
      ]
     },
     "execution_count": 4,
     "metadata": {},
     "output_type": "execute_result"
    }
   ],
   "source": [
    "# probabilities must sum to one\n",
    "\n",
    "np.sum(A, axis=1)"
   ]
  },
  {
   "cell_type": "markdown",
   "metadata": {},
   "source": [
    "Consider an emsemble of teenagers. At each time $t$ each of them can be in either of the states *E*, *H*, *St*, *T*, *Sl*.\n",
    "\n",
    "A *population vector*, $s_{t}$, is a number of teenagers in each state at time $t$."
   ]
  },
  {
   "cell_type": "code",
   "execution_count": 5,
   "metadata": {
    "collapsed": false
   },
   "outputs": [
    {
     "data": {
      "text/plain": [
       "array([ 0.0679945 ,  0.22086516,  0.15540499,  0.27882319,  0.27691216])"
      ]
     },
     "execution_count": 5,
     "metadata": {},
     "output_type": "execute_result"
    }
   ],
   "source": [
    "np.random.seed(1234)\n",
    "\n",
    "# Initial population vector\n",
    "s_0 = np.random.random(n_states)\n",
    "s_0 /= s_0.sum()\n",
    "\n",
    "s_0"
   ]
  },
  {
   "cell_type": "markdown",
   "metadata": {},
   "source": [
    "Time evolution of the population:\n",
    "\n",
    "$$\n",
    "s_{t+1} = A^T s_t\n",
    "$$"
   ]
  },
  {
   "cell_type": "code",
   "execution_count": 6,
   "metadata": {
    "collapsed": false
   },
   "outputs": [
    {
     "data": {
      "text/plain": [
       "array([ 0.07186425,  0.40268538,  0.00679945,  0.23934926,  0.27930166])"
      ]
     },
     "execution_count": 6,
     "metadata": {},
     "output_type": "execute_result"
    }
   ],
   "source": [
    "s1 = np.dot(A.T, s_0)\n",
    "s1"
   ]
  },
  {
   "cell_type": "code",
   "execution_count": 7,
   "metadata": {
    "collapsed": false
   },
   "outputs": [],
   "source": [
    "s_sleep = np.array([0, 0, 0, 0, 1.])"
   ]
  },
  {
   "cell_type": "code",
   "execution_count": 8,
   "metadata": {
    "collapsed": false
   },
   "outputs": [
    {
     "data": {
      "text/plain": [
       "array([ 0.1,  0.1,  0. ,  0. ,  0.8])"
      ]
     },
     "execution_count": 8,
     "metadata": {},
     "output_type": "execute_result"
    }
   ],
   "source": [
    "np.dot(A.T, s_sleep)"
   ]
  },
  {
   "cell_type": "code",
   "execution_count": 9,
   "metadata": {
    "collapsed": false
   },
   "outputs": [],
   "source": [
    "%matplotlib inline\n",
    "from matplotlib import style as mstyle\n",
    "mstyle.use('ggplot')\n",
    "import matplotlib.pyplot as plt\n",
    "\n",
    "from scipy import linalg"
   ]
  },
  {
   "cell_type": "code",
   "execution_count": 10,
   "metadata": {
    "collapsed": false
   },
   "outputs": [
    {
     "data": {
      "text/plain": [
       "<matplotlib.legend.Legend at 0x3d715d0>"
      ]
     },
     "execution_count": 10,
     "metadata": {},
     "output_type": "execute_result"
    },
    {
     "data": {
      "image/png": "[encoded data removed]",
      "text/plain": [
       "<matplotlib.figure.Figure at 0x3d6be10>"
      ]
     },
     "metadata": {},
     "output_type": "display_data"
    }
   ],
   "source": [
    "n_steps = [5, 10, 20, 100, 500]\n",
    "\n",
    "fig, ax = plt.subplots()\n",
    "ccycle = ['m', 'b', 'y', 'g', 'r']\n",
    "\n",
    "for j, n in enumerate(n_steps):\n",
    "    \n",
    "    A_n = linalg.funm(A.T, lambda x: x**n)  # NB: this is *not*  (A.T)**n !\n",
    "    s = np.dot(A_n, s_0)\n",
    "\n",
    "    ax.bar(np.arange(n_states) + 0.1*j, s, \n",
    "           width=0.2, alpha=0.5, label=str(n)+' steps', color=ccycle[j])\n",
    "\n",
    "ax.set_xticks(np.arange(n_states))\n",
    "ax.set_xticklabels(states)\n",
    "plt.legend(loc='best')"
   ]
  },
  {
   "cell_type": "markdown",
   "metadata": {},
   "source": [
    "Equilibrium distribuion:\n",
    "\n",
    "$$\n",
    "s_{e} = A^T s_e\n",
    "$$\n",
    "\n",
    "which corresponds to $A$ having at least one eigenvalue equal to $1$."
   ]
  },
  {
   "cell_type": "code",
   "execution_count": 11,
   "metadata": {
    "collapsed": false
   },
   "outputs": [
    {
     "data": {
      "text/plain": [
       "5.9947164419982275e-18"
      ]
     },
     "execution_count": 11,
     "metadata": {},
     "output_type": "execute_result"
    }
   ],
   "source": [
    "linalg.det(A.T - np.eye(n_states))"
   ]
  },
  {
   "cell_type": "code",
   "execution_count": 12,
   "metadata": {
    "collapsed": false
   },
   "outputs": [
    {
     "data": {
      "text/plain": [
       "array([ 0.0990099 ,  0.2970297 ,  0.00990099,  0.1980198 ,  0.3960396 ])"
      ]
     },
     "execution_count": 12,
     "metadata": {},
     "output_type": "execute_result"
    }
   ],
   "source": [
    "s_stable = linalg.solve(A.T - np.eye(n_states),\n",
    "                        np.ones(n_states))\n",
    "s_stable /= s_stable.sum()\n",
    "s_stable"
   ]
  },
  {
   "cell_type": "code",
   "execution_count": 13,
   "metadata": {
    "collapsed": false
   },
   "outputs": [
    {
     "data": {
      "text/plain": [
       "array([-0.13926032+0.10717296j, -0.13926032-0.10717296j,\n",
       "        0.41644575+0.j        ,  1.00000000+0.j        ,  0.76207490+0.j        ])"
      ]
     },
     "execution_count": 13,
     "metadata": {},
     "output_type": "execute_result"
    }
   ],
   "source": [
    "linalg.eigvals(A.T)"
   ]
  },
  {
   "cell_type": "markdown",
   "metadata": {},
   "source": [
    "##### Is the model ergodic? I.e. is there only one limiting distribution?|"
   ]
  },
  {
   "cell_type": "code",
   "execution_count": 14,
   "metadata": {
    "collapsed": false
   },
   "outputs": [
    {
     "name": "stdout",
     "output_type": "stream",
     "text": [
      "[[ 0.0990099   0.0990099   0.0990099   0.0990099   0.0990099 ]\n",
      " [ 0.29702971  0.29702971  0.29702971  0.29702971  0.29702971]\n",
      " [ 0.00990099  0.00990099  0.00990099  0.00990099  0.00990099]\n",
      " [ 0.19801981  0.19801981  0.19801981  0.19801981  0.19801981]\n",
      " [ 0.39603962  0.39603962  0.39603962  0.39603962  0.39603962]]\n"
     ]
    }
   ],
   "source": [
    "B = A.T.copy()\n",
    "\n",
    "for _ in range(32):\n",
    "    B = np.dot(B, B)\n",
    "\n",
    "print B"
   ]
  },
  {
   "cell_type": "markdown",
   "metadata": {},
   "source": [
    "\n",
    "#### Simulate the random walk directly instead.\n"
   ]
  },
  {
   "cell_type": "code",
   "execution_count": 15,
   "metadata": {
    "collapsed": false
   },
   "outputs": [],
   "source": [
    "import scipy.stats as stats\n",
    "\n",
    "np.random.seed(1234)"
   ]
  },
  {
   "cell_type": "code",
   "execution_count": 16,
   "metadata": {
    "collapsed": false
   },
   "outputs": [],
   "source": [
    "# A[i,:] is a vector of transition probabilities from state `i` \n",
    "# prob[i] is a corresponding discrete probability distribution\n",
    "\n",
    "prob = [None] * n_states\n",
    "for i in range(n_states):\n",
    "    prob[i] = stats.rv_discrete(\n",
    "                    values=(np.arange(n_states), A[i, :])\n",
    "              )"
   ]
  },
  {
   "cell_type": "code",
   "execution_count": 17,
   "metadata": {
    "collapsed": false
   },
   "outputs": [
    {
     "data": {
      "text/plain": [
       "<matplotlib.collections.LineCollection at 0x490f610>"
      ]
     },
     "execution_count": 17,
     "metadata": {},
     "output_type": "execute_result"
    },
    {
     "data": {
      "image/png": "[encoded data removed]",
      "text/plain": [
       "<matplotlib.figure.Figure at 0x47fbb90>"
      ]
     },
     "metadata": {},
     "output_type": "display_data"
    }
   ],
   "source": [
    "fig, (ax1, ax2) = plt.subplots(1, 2)\n",
    "\n",
    "x = np.arange(n_states)\n",
    "ax1.vlines(x, 0, prob[1].pmf(x), lw=8)\n",
    "ax2.vlines(x, 0, prob[1].cdf(x), lw=8)"
   ]
  },
  {
   "cell_type": "code",
   "execution_count": 18,
   "metadata": {
    "collapsed": false
   },
   "outputs": [],
   "source": [
    "num_steps = 10000\n",
    "histogram = np.zeros(n_states)\n",
    "\n",
    "state = 0\n",
    "for t in range(num_steps):\n",
    "    state = prob[state].rvs()\n",
    "    \n",
    "    histogram[state] += 1."
   ]
  },
  {
   "cell_type": "code",
   "execution_count": 19,
   "metadata": {
    "collapsed": false
   },
   "outputs": [
    {
     "data": {
      "text/plain": [
       "array([ 0.1007,  0.2976,  0.0101,  0.2008,  0.3908])"
      ]
     },
     "execution_count": 19,
     "metadata": {},
     "output_type": "execute_result"
    }
   ],
   "source": [
    "histogram / histogram.sum()"
   ]
  },
  {
   "cell_type": "code",
   "execution_count": 20,
   "metadata": {
    "collapsed": false
   },
   "outputs": [
    {
     "data": {
      "text/plain": [
       "array([ 0.0990099 ,  0.2970297 ,  0.00990099,  0.1980198 ,  0.3960396 ])"
      ]
     },
     "execution_count": 20,
     "metadata": {},
     "output_type": "execute_result"
    }
   ],
   "source": [
    "s_stable"
   ]
  },
  {
   "cell_type": "markdown",
   "metadata": {},
   "source": [
    "BUT: Drawing random variates one by one is *slow*."
   ]
  }
 ],
 "metadata": {
  "kernelspec": {
   "display_name": "Python 2",
   "language": "python",
   "name": "python2"
  },
  "language_info": {
   "codemirror_mode": {
    "name": "ipython",
    "version": 2
   },
   "file_extension": ".py",
   "mimetype": "text/x-python",
   "name": "python",
   "nbconvert_exporter": "python",
   "pygments_lexer": "ipython2",
   "version": "2.7.3"
  }
 },
 "nbformat": 4,
 "nbformat_minor": 0
}
